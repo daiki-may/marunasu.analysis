{
 "cells": [
  {
   "cell_type": "code",
   "execution_count": 1,
   "metadata": {},
   "outputs": [],
   "source": [
    "import matplotlib.pyplot as plt\n",
    "from pandas import DataFrame, Series\n",
    "import pandas as pd\n",
    "import numpy as np\n",
    "import datetime\n",
    "import collections\n",
    "from collections import Counter\n",
    "import glob"
   ]
  },
  {
   "cell_type": "code",
   "execution_count": null,
   "metadata": {},
   "outputs": [],
   "source": [
    "import time\n",
    "import glob\n",
    "import numpy as np \n",
    "import pandas as pd\n",
    "import os\n",
    "from multiprocessing import Pool\n",
    "import dask.dataframe as dd\n",
    "\n",
    "#readcsv_dask_map_multi\n",
    "def readcsv_dask_map_multi(fileslist):\n",
    "    p = Pool(os.cpu_count())\n",
    "    df = pd.concat(p.map(ddreadcsv, fileslist))\n",
    "    p.close()\n",
    "    return df\n",
    "\n",
    "# 並列化読み込み関数 dd\n",
    "def ddreadcsv(csv_path):\n",
    "    return dd.read_csv(csv_path).compute()\n",
    "\n",
    "  \n",
    "if __name__ == \"__main__\":\n",
    "    \n",
    "    allfiles = sorted(glob.glob('*.csv', recursive=True))\n",
    "    \n",
    "    start = time.time()\n",
    "    df = readcsv_dask_map_multi(allfiles)\n",
    "    process_time = time.time() - start\n",
    "    print('csv読み込み時間：{:.3f}s'.format(process_time))"
   ]
  },
  {
   "cell_type": "code",
   "execution_count": 8,
   "metadata": {},
   "outputs": [
    {
     "name": "stdout",
     "output_type": "stream",
     "text": [
      "20210612/rsdata_20210612_141850.csv\n",
      "20210612/rsdata_20210612_180003.csv\n",
      "20210612/rsdata_20210612_182600.csv\n",
      "20210612/rsdata_20210612_165514.csv\n",
      "20210612/rsdata_20210612_135451.csv\n",
      "20210612/rsdata_20210612_113333.csv\n",
      "20210612/rsdata_20210612_104049.csv\n",
      "20210612/rsdata_20210612_175317.csv\n",
      "20210612/rsdata_20210612_135055.csv\n",
      "20210612/rsdata_20210612_201412.csv\n",
      "20210612/rsdata_20210612_103041.csv\n",
      "20210612/rsdata_20210612_172041.csv\n",
      "20210612/rsdata_20210612_153258.csv\n",
      "20210612/rsdata_20210612_121433.csv\n",
      "20210612/rsdata_20210612_161956.csv\n",
      "20210612/rsdata_20210612_155211.csv\n",
      "20210612/rsdata_20210612_191723.csv\n",
      "20210612/rsdata_20210612_180612.csv\n",
      "20210612/rsdata_20210612_124600.csv\n",
      "20210612/rsdata_20210612_084139.csv\n",
      "20210612/rsdata_20210612_122649.csv\n",
      "20210612/rsdata_20210612_211005.csv\n",
      "20210612/rsdata_20210612_153705.csv\n",
      "20210612/rsdata_20210612_142543.csv\n",
      "20210612/rsdata_20210612_173013.csv\n",
      "20210612/rsdata_20210612_183109.csv\n",
      "20210612/rsdata_20210612_181642.csv\n",
      "20210612/rsdata_20210612_110615.csv\n",
      "20210612/rsdata_20210612_164143.csv\n",
      "20210612/rsdata_20210612_173601.csv\n",
      "20210612/rsdata_20210612_185801.csv\n",
      "20210612/rsdata_20210612_114303.csv\n",
      "20210612/rsdata_20210612_083137.csv\n",
      "20210612/rsdata_20210612_164545.csv\n",
      "20210612/rsdata_20210612_151528.csv\n",
      "20210612/rsdata_20210612_173945.csv\n",
      "20210612/rsdata_20210612_161602.csv\n",
      "20210612/rsdata_20210612_170647.csv\n",
      "20210612/rsdata_20210612_111044.csv\n",
      "20210612/rsdata_20210612_143017.csv\n",
      "20210612/rsdata_20210612_091145.csv\n",
      "20210612/rsdata_20210612_085118.csv\n",
      "20210612/rsdata_20210612_151836.csv\n",
      "20210612/rsdata_20210612_140457.csv\n",
      "20210612/rsdata_20210612_113755.csv\n",
      "20210612/rsdata_20210612_094000.csv\n",
      "20210612/rsdata_20210612_131457.csv\n",
      "20210612/rsdata_20210612_191146.csv\n",
      "20210612/rsdata_20210612_080711.csv\n",
      "20210612/rsdata_20210612_170025.csv\n",
      "20210612/rsdata_20210612_160550.csv\n",
      "20210612/rsdata_20210612_154409.csv\n",
      "20210612/rsdata_20210612_133451.csv\n",
      "20210612/rsdata_20210612_150737.csv\n",
      "20210612/rsdata_20210612_100100.csv\n",
      "20210612/rsdata_20210612_181350.csv\n",
      "20210612/rsdata_20210612_210022.csv\n",
      "20210612/rsdata_20210612_200755.csv\n",
      "20210612/rsdata_20210612_144636.csv\n",
      "20210612/rsdata_20210612_121939.csv\n",
      "20210612/rsdata_20210612_192926.csv\n",
      "20210612/rsdata_20210612_212146.csv\n",
      "20210612/rsdata_20210612_125154.csv\n",
      "20210612/rsdata_20210612_075213.csv\n",
      "20210612/rsdata_20210612_121124.csv\n",
      "20210612/rsdata_20210612_141407.csv\n",
      "20210612/rsdata_20210612_172422.csv\n",
      "20210612/rsdata_20210612_141016.csv\n",
      "20210612/rsdata_20210612_174708.csv\n",
      "20210612/rsdata_20210612_061339.csv\n",
      "20210612/rsdata_20210612_072437.csv\n",
      "20210612/rsdata_20210612_143359.csv\n",
      "20210612/rsdata_20210612_225931.csv\n",
      "20210612/rsdata_20210612_195643.csv\n",
      "20210612/rsdata_20210612_110113.csv\n",
      "20210612/rsdata_20210612_131122.csv\n",
      "20210612/rsdata_20210612_203100.csv\n",
      "20210612/rsdata_20210612_101629.csv\n",
      "20210612/rsdata_20210612_182044.csv\n",
      "20210612/rsdata_20210612_114741.csv\n",
      "20210612/rsdata_20210612_112318.csv\n",
      "20210612/rsdata_20210612_152500.csv\n",
      "20210612/rsdata_20210612_193639.csv\n",
      "20210612/rsdata_20210612_160014.csv\n",
      "20210612/rsdata_20210612_154825.csv\n",
      "20210612/rsdata_20210612_171333.csv\n",
      "20210612/rsdata_20210612_112723.csv\n",
      "20210612/rsdata_20210612_134531.csv\n",
      "20210612/rsdata_20210612_202013.csv\n",
      "20210612/rsdata_20210612_152854.csv\n",
      "20210612/rsdata_20210612_104810.csv\n",
      "20210612/rsdata_20210612_163733.csv\n",
      "20210612/rsdata_20210612_102440.csv\n",
      "20210612/rsdata_20210612_144159.csv\n",
      "20210612/rsdata_20210612_145521.csv\n",
      "20210612/rsdata_20210612_190309.csv\n",
      "20210612/rsdata_20210612_162809.csv\n",
      "20210612/rsdata_20210612_155531.csv\n",
      "20210612/rsdata_20210612_144951.csv\n",
      "20210612/rsdata_20210612_130220.csv\n",
      "20210612/rsdata_20210612_215030.csv\n",
      "20210612/rsdata_20210612_092722.csv\n",
      "20210612/rsdata_20210612_123857.csv\n",
      "20210612/rsdata_20210612_120026.csv\n",
      "20210612/rsdata_20210612_163309.csv\n",
      "20210612/rsdata_20210612_204359.csv\n",
      "20210612/rsdata_20210612_151121.csv\n",
      "20210612/rsdata_20210612_184720.csv\n",
      "20210612/rsdata_20210612_152212.csv\n",
      "20210612/rsdata_20210612_105606.csv\n",
      "20210612/rsdata_20210612_184325.csv\n",
      "20210612/rsdata_20210612_094650.csv\n",
      "20210612/rsdata_20210612_095200.csv\n",
      "20210612/rsdata_20210612_160921.csv\n",
      "20210612/rsdata_20210612_122247.csv\n",
      "20210612/rsdata_20210612_183714.csv\n",
      "20210612/rsdata_20210612_164831.csv\n",
      "20210612/rsdata_20210612_205522.csv\n",
      "20210612/rsdata_20210612_111935.csv\n",
      "20210612/rsdata_20210612_133957.csv\n",
      "20210612/rsdata_20210612_150412.csv\n",
      "20210612/rsdata_20210612_120651.csv\n",
      "20210612/rsdata_20210612_213814.csv\n",
      "20210612/rsdata_20210612_132319.csv\n",
      "20210612/rsdata_20210612_194657.csv\n",
      "20210612/rsdata_20210612_115413.csv\n",
      "20210612/rsdata_20210612_125710.csv\n",
      "20210612/rsdata_20210612_162315.csv\n",
      "20210612/rsdata_20210612_093515.csv\n",
      "20210612/rsdata_20210612_133012.csv\n",
      "20210612/rsdata_20210612_123229.csv\n",
      "20210612/rsdata_20210612_150004.csv\n",
      "20210612/rsdata_20210612_165242.csv\n",
      "20210612/rsdata_20210612_111528.csv\n",
      "20210612/rsdata_20210612_143657.csv\n",
      "20210612/rsdata_20210612_103529.csv\n",
      "20210612/rsdata_20210612_200503.csv\n",
      "20210612/rsdata_20210612_074212.csv\n"
     ]
    }
   ],
   "source": [
    "# パスで指定したファイルの一覧をリスト形式で取得. （ここでは一階層下のtestファイル以下）\n",
    "csv_files = glob.glob('20210612/*.csv')\n",
    "\n",
    "#読み込むファイルのリストを表示\n",
    "for a in csv_files:\n",
    "    print(a)\n",
    "\n",
    "#csvファイルの中身を追加していくリストを用意\n",
    "data_list = []\n",
    "\n",
    "#読み込むファイルのリストを走査\n",
    "for file in csv_files:\n",
    "    data_list.append(pd.read_csv(file))\n",
    "\n",
    "#リストを全て行方向に結合\n",
    "#axis=0:行方向に結合, sort\n",
    "df = pd.concat(data_list,  sort=False)\n",
    "\n",
    "df.to_csv(\"total0612.csv\",index=False)"
   ]
  },
  {
   "cell_type": "code",
   "execution_count": 2,
   "metadata": {},
   "outputs": [
    {
     "name": "stderr",
     "output_type": "stream",
     "text": [
      "/opt/anaconda3/lib/python3.8/site-packages/IPython/core/interactiveshell.py:3146: DtypeWarning: Columns (0) have mixed types.Specify dtype option on import or set low_memory=False.\n",
      "  has_raised = await self.run_ast_nodes(code_ast.body, cell_name,\n"
     ]
    },
    {
     "name": "stdout",
     "output_type": "stream",
     "text": [
      "                               Time       Id\n",
      "0        2021-06-12 14:14:08.024318  20394.0\n",
      "1        2021-06-12 14:14:08.024318  20390.0\n",
      "2        2021-06-12 14:14:08.024318  20399.0\n",
      "3        2021-06-12 14:14:08.154687  20394.0\n",
      "4        2021-06-12 14:14:08.154687  20399.0\n",
      "...                             ...      ...\n",
      "1380151                         NaN      NaN\n",
      "1380152                         NaN      NaN\n",
      "1380153                         NaN      NaN\n",
      "1380154                         NaN      NaN\n",
      "1380155                         NaN      NaN\n",
      "\n",
      "[1380156 rows x 2 columns]\n"
     ]
    }
   ],
   "source": [
    "#csvの読み込み\n",
    "df_timeid = pd.read_csv('total0612.csv', header=None, usecols=[0,1])\n",
    "df_timeid.columns = ['Time', 'Id']\n",
    "print(df_timeid)"
   ]
  },
  {
   "cell_type": "code",
   "execution_count": null,
   "metadata": {},
   "outputs": [],
   "source": [
    "#IDごとにまとめる\n",
    "df_timeid = df_timeid.sort_values(['Id', 'Time'])\n",
    "all_dict = {}\n",
    "\n",
    "for id in sorted(set(df_timeid['Id'])):\n",
    "    #print('id', id)\n",
    "    #print(df_timeid[df_timeid['Id'] == id])\n",
    "    all_dict[id] = df_timeid[df_timeid['Id'] == id]"
   ]
  },
  {
   "cell_type": "code",
   "execution_count": 7,
   "metadata": {},
   "outputs": [
    {
     "name": "stdout",
     "output_type": "stream",
     "text": [
      "2021-06-10 15:56:06 2021-06-10 15:58:41 155\n"
     ]
    }
   ],
   "source": [
    "#滞在時間を計算\n",
    "#print(all_dict[26][\"Time\"].iloc[0])\n",
    "#print(all_dict[26][\"Time\"].iloc[-1])\n",
    "\n",
    "start = datetime.datetime.strptime(all_dict[26][\"Time\"].iloc[0].split(\".\")[0], \"%Y-%m-%d %H:%M:%S\")\n",
    "end = datetime.datetime.strptime(all_dict[26][\"Time\"].iloc[-1].split(\".\")[0], \"%Y-%m-%d %H:%M:%S\")\n",
    "print(start,end,(end-start).seconds)"
   ]
  },
  {
   "cell_type": "code",
   "execution_count": 68,
   "metadata": {},
   "outputs": [
    {
     "name": "stdout",
     "output_type": "stream",
     "text": [
      "{26: 155, 123: 37, 178: 30, 180: 20, 198: 4, 200: 31, 204: 127, 205: 5, 208: 119, 210: 94, 211: 5, 213: 6, 214: 3, 215: 15, 227: 18, 229: 79, 233: 5, 234: 10, 236: 61, 241: 8, 242: 25, 244: 3, 246: 8, 254: 8, 255: 3}\n"
     ]
    }
   ],
   "source": [
    "#list_time内に滞在時間を格納(3秒以下は削除)\n",
    "time_dict={}\n",
    "time_dictx={}\n",
    "for id in all_dict:\n",
    "        start = datetime.datetime.strptime(all_dict[id][\"Time\"].iloc[0].split(\".\")[0], \"%Y-%m-%d %H:%M:%S\")\n",
    "        end = datetime.datetime.strptime(all_dict[id][\"Time\"].iloc[-1].split(\".\")[0], \"%Y-%m-%d %H:%M:%S\")\n",
    "        #print(start,end,(end-start).seconds)\n",
    "        T = (end - start).seconds\n",
    "        if T < 3:\n",
    "            id = 0\n",
    "        else:\n",
    "            time_dict[id] = T\n",
    "print(time_dict)"
   ]
  },
  {
   "cell_type": "code",
   "execution_count": 104,
   "metadata": {
    "scrolled": true
   },
   "outputs": [
    {
     "name": "stdout",
     "output_type": "stream",
     "text": [
      "Counter({'2021/06/10 15:56': 11, '2021/06/10 15:57': 8, '2021/06/10 15:58': 6})\n"
     ]
    },
    {
     "data": {
      "text/html": [
       "<div>\n",
       "<style scoped>\n",
       "    .dataframe tbody tr th:only-of-type {\n",
       "        vertical-align: middle;\n",
       "    }\n",
       "\n",
       "    .dataframe tbody tr th {\n",
       "        vertical-align: top;\n",
       "    }\n",
       "\n",
       "    .dataframe thead th {\n",
       "        text-align: right;\n",
       "    }\n",
       "</style>\n",
       "<table border=\"1\" class=\"dataframe\">\n",
       "  <thead>\n",
       "    <tr style=\"text-align: right;\">\n",
       "      <th></th>\n",
       "      <th>Time</th>\n",
       "      <th>Visitor</th>\n",
       "    </tr>\n",
       "  </thead>\n",
       "  <tbody>\n",
       "    <tr>\n",
       "      <th>0</th>\n",
       "      <td>2021/06/10 15:56</td>\n",
       "      <td>11</td>\n",
       "    </tr>\n",
       "    <tr>\n",
       "      <th>1</th>\n",
       "      <td>2021/06/10 15:57</td>\n",
       "      <td>8</td>\n",
       "    </tr>\n",
       "    <tr>\n",
       "      <th>2</th>\n",
       "      <td>2021/06/10 15:58</td>\n",
       "      <td>6</td>\n",
       "    </tr>\n",
       "  </tbody>\n",
       "</table>\n",
       "</div>"
      ],
      "text/plain": [
       "               Time  Visitor\n",
       "0  2021/06/10 15:56       11\n",
       "1  2021/06/10 15:57        8\n",
       "2  2021/06/10 15:58        6"
      ]
     },
     "execution_count": 104,
     "metadata": {},
     "output_type": "execute_result"
    }
   ],
   "source": [
    "#分毎の訪問者数\n",
    "start_list = []\n",
    "start_taime = []\n",
    "for id in time_dict:\n",
    "        start = datetime.datetime.strptime(all_dict[id][\"Time\"].iloc[0].split(\".\")[0], \"%Y-%m-%d %H:%M:%S\")\n",
    "        start_list.append(start.strftime(\"%Y/%m/%d %H:%M\"))\n",
    "c = collections.Counter(start_list)\n",
    "print(c)\n",
    "df_visitor = pd.DataFrame.from_dict(c, orient='index').reset_index()\n",
    "df_visitor.columns = ['Time', 'Visitor']\n",
    "df_visitor"
   ]
  },
  {
   "cell_type": "code",
   "execution_count": 108,
   "metadata": {},
   "outputs": [
    {
     "data": {
      "text/plain": [
       "<AxesSubplot:xlabel='Time'>"
      ]
     },
     "execution_count": 108,
     "metadata": {},
     "output_type": "execute_result"
    },
    {
     "data": {
      "image/png": "[encoded data removed]",
      "text/plain": [
       "<Figure size 432x288 with 1 Axes>"
      ]
     },
     "metadata": {
      "needs_background": "light"
     },
     "output_type": "display_data"
    }
   ],
   "source": [
    "df_visitor.plot(x='Time', y='Visitor')"
   ]
  },
  {
   "cell_type": "code",
   "execution_count": null,
   "metadata": {},
   "outputs": [],
   "source": []
  },
  {
   "cell_type": "code",
   "execution_count": null,
   "metadata": {},
   "outputs": [],
   "source": []
  }
 ],
 "metadata": {
  "kernelspec": {
   "display_name": "Python 3",
   "language": "python",
   "name": "python3"
  },
  "language_info": {
   "codemirror_mode": {
    "name": "ipython",
    "version": 3
   },
   "file_extension": ".py",
   "mimetype": "text/x-python",
   "name": "python",
   "nbconvert_exporter": "python",
   "pygments_lexer": "ipython3",
   "version": "3.8.5"
  }
 },
 "nbformat": 4,
 "nbformat_minor": 4
}
